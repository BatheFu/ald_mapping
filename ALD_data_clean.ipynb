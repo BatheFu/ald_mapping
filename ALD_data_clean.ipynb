{
 "cells": [
  {
   "cell_type": "code",
   "execution_count": 1,
   "id": "462a0c4c",
   "metadata": {},
   "outputs": [],
   "source": [
    "import numpy as np\n",
    "import pandas as pd\n",
    "import re"
   ]
  },
  {
   "cell_type": "code",
   "execution_count": 2,
   "id": "c1e4cc6c",
   "metadata": {},
   "outputs": [
    {
     "data": {
      "text/plain": [
       "'/home/bath/data/gadgets'"
      ]
     },
     "execution_count": 2,
     "metadata": {},
     "output_type": "execute_result"
    }
   ],
   "source": [
    "%pwd"
   ]
  },
  {
   "cell_type": "code",
   "execution_count": 3,
   "id": "be503318",
   "metadata": {},
   "outputs": [],
   "source": [
    "dat = pd.read_csv('/home/bath/data/ald_mask.csv')"
   ]
  },
  {
   "cell_type": "code",
   "execution_count": 4,
   "id": "92b0e934",
   "metadata": {},
   "outputs": [
    {
     "data": {
      "text/plain": [
       "0                                  自身免疫性肝炎; 气血; 贾建伟;专家意见\n",
       "1                         自身免疫性肝炎; 医案; 干燥综合征; 滋水清肝饮;病例报告\n",
       "2                           自身免疫性肝病; 肝硬化;原发性胆汁性胆管炎; 专家意见\n",
       "3                    ;治疗组; 原发性胆汁性肝硬化; 病例报告; 临床分析; 复方甘草酸苷\n",
       "4      ;liver cirrhosis; 肝硬化; 理论探讨; 胆汁性; 毒损胆汁络; 微观病机;...\n",
       "                             ...                        \n",
       "509                                  自身免疫性肝炎; 高月求; 从肾论治;\n",
       "510                             原发性硬化性胆管炎; 中西医结合; 茵陈五苓散;\n",
       "511                中医药; 数据挖掘; 医案; 网络药理学; 原发性胆汁性肝硬化; 陈四清;\n",
       "512                        自身免疫性肝病; 中西医结合; 证候; 病下分证; 诊治;\n",
       "513                                    肝脾同治; 名中医经验; 常占杰;\n",
       "Name: Fuse, Length: 514, dtype: object"
      ]
     },
     "execution_count": 4,
     "metadata": {},
     "output_type": "execute_result"
    }
   ],
   "source": [
    "dat = dat.replace (np.nan,'',regex=True) \n",
    "dat['Fuse'] = dat['AT'].map(str)+\";\"+dat['MT'].map(str)\n",
    "dat['Fuse']"
   ]
  },
  {
   "cell_type": "code",
   "execution_count": 5,
   "id": "41942da1",
   "metadata": {},
   "outputs": [],
   "source": [
    "dat['fuse2'] = dat['Fuse'].replace('[a-z\\sA-Z]+;','', regex=True)"
   ]
  },
  {
   "cell_type": "code",
   "execution_count": 6,
   "id": "058227ec",
   "metadata": {},
   "outputs": [],
   "source": [
    "s1 = dat['Fuse'].str.split(\";\")"
   ]
  },
  {
   "cell_type": "code",
   "execution_count": 7,
   "id": "3d085bad",
   "metadata": {},
   "outputs": [],
   "source": [
    "s2 = []\n",
    "for item in s1:\n",
    "    #去掉留白，空白，和手动添加或无意义的关键词\n",
    "    new_l = [key.strip() for key in item]\n",
    "    new_l = [key for key in new_l if key != '']\n",
    "    out = ['综述','专家意见','动物研究','细胞研究','队列研究','综述','随机对照研究','理论文章','排除','病例报告','病例对照研究','中医']\n",
    "    for w in out:\n",
    "        new_l = [key for key in new_l if w not in key]\n",
    "    #只保留中文关键词\n",
    "    new = []\n",
    "    for kw in new_l:\n",
    "        flag = re.compile(u\"[\\u4e00-\\u9fa5]+\")\n",
    "        res = re.search(flag,kw)\n",
    "        if res:\n",
    "            new.append(kw)\n",
    "    #压平列表\n",
    "    final = ';'.join(new)\n",
    "    s2.append(final)"
   ]
  },
  {
   "cell_type": "code",
   "execution_count": 8,
   "id": "57f19328",
   "metadata": {},
   "outputs": [
    {
     "name": "stdout",
     "output_type": "stream",
     "text": [
      "None\n",
      "Not Found\n"
     ]
    }
   ],
   "source": [
    "flag = re.compile(u\"[\\u4e00-\\u9fa5]+\")\n",
    "s = \"inflammation\"\n",
    "res = re.search(flag,s)\n",
    "print(res)\n",
    "if res:\n",
    "    print(\"Found\")\n",
    "    print(type(res))\n",
    "    print(res.group())\n",
    "else:\n",
    "    print(\"Not Found\")"
   ]
  },
  {
   "cell_type": "code",
   "execution_count": 9,
   "id": "0ab46a4a",
   "metadata": {},
   "outputs": [
    {
     "name": "stdout",
     "output_type": "stream",
     "text": [
      "自身免疫性肝炎\n",
      "刀豆蛋白A\n",
      "枫杨\n",
      "肝损伤\n",
      "炎症\n",
      "concanavalin A\n",
      "inflammation\n",
      "liver injury\n",
      "Pterocarya hupehensis Skan\n",
      "['自身免疫性肝炎', '刀豆蛋白A', '枫杨', '肝损伤', '炎症']\n"
     ]
    }
   ],
   "source": [
    "old = ['自身免疫性肝炎', '刀豆蛋白A', '枫杨', '肝损伤', '炎症', 'concanavalin A', 'inflammation', 'liver injury', 'Pterocarya hupehensis Skan']\n",
    "new = []\n",
    "for kw in old:\n",
    "    print(kw)\n",
    "    flag = re.compile(u\"[\\u4e00-\\u9fa5]+\")\n",
    "    res = re.search(flag,kw)\n",
    "    if res:\n",
    "        new.append(kw)\n",
    "print(new)"
   ]
  },
  {
   "cell_type": "code",
   "execution_count": 10,
   "id": "2a971a37",
   "metadata": {},
   "outputs": [],
   "source": [
    "dat['Final'] = pd.Series(s2)\n",
    "dat.drop(['Fuse','fuse2'], axis=1, inplace=True)"
   ]
  },
  {
   "cell_type": "code",
   "execution_count": 11,
   "id": "b07db46a",
   "metadata": {},
   "outputs": [],
   "source": [
    "dat.drop(['MT','AT'],axis =1, inplace=True)"
   ]
  },
  {
   "cell_type": "code",
   "execution_count": 20,
   "id": "8c58a94f",
   "metadata": {},
   "outputs": [],
   "source": [
    "with open('clean.txt','w+') as f:\n",
    "    for i in range(514):\n",
    "        f.write(\"RT {}\\nA1 {}\\nT1 {}\\nJF {}\\nK1 {}\\nYR {}\\nLA {}\\nDS {}\\n\".format(dat['RT'][i],dat['A1'][i],dat['T1'][i],dat['JF'][i],dat['Final'][i],dat['YR'][i],\n",
    "             dat['LA'][i],dat['DS'][i]))"
   ]
  },
  {
   "cell_type": "code",
   "execution_count": 16,
   "id": "5e13c4b9",
   "metadata": {},
   "outputs": [],
   "source": [
    "dat.to_excel('clean.xlsx', encoding='utf-8', index=False)"
   ]
  },
  {
   "cell_type": "code",
   "execution_count": 13,
   "id": "e862b53e",
   "metadata": {},
   "outputs": [],
   "source": [
    "dat.to_csv('ald_for_r.csv', encoding='utf-8', index=False)"
   ]
  },
  {
   "cell_type": "code",
   "execution_count": null,
   "id": "5b9c12a9",
   "metadata": {},
   "outputs": [],
   "source": []
  }
 ],
 "metadata": {
  "kernelspec": {
   "display_name": "Python 3 (ipykernel)",
   "language": "python",
   "name": "python3"
  },
  "language_info": {
   "codemirror_mode": {
    "name": "ipython",
    "version": 3
   },
   "file_extension": ".py",
   "mimetype": "text/x-python",
   "name": "python",
   "nbconvert_exporter": "python",
   "pygments_lexer": "ipython3",
   "version": "3.8.10"
  }
 },
 "nbformat": 4,
 "nbformat_minor": 5
}
